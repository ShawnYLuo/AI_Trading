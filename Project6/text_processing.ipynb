{
 "cells": [
  {
   "cell_type": "markdown",
   "metadata": {},
   "source": [
    "# Text Processing\n",
    "\n",
    "## Capturing Text Data\n",
    "\n",
    "### Plain Text"
   ]
  },
  {
   "cell_type": "code",
   "execution_count": 1,
   "metadata": {},
   "outputs": [
    {
     "name": "stdout",
     "output_type": "stream",
     "text": [
      "Hieroglyphic writing dates from c. 3000 BC, and is composed of hundreds of symbols. A hieroglyph can represent a word, a sound, or a silent determinative; and the same symbol can serve different purposes in different contexts. Hieroglyphs were a formal script, used on stone monuments and in tombs, that could be as detailed as individual works of art.\n",
      "\n"
     ]
    }
   ],
   "source": [
    "import os\n",
    "\n",
    "# Read in a plain text file\n",
    "with open(os.path.join(\"data\", \"hieroglyph.txt\"), \"r\") as f:\n",
    "    text = f.read()\n",
    "    print(text)"
   ]
  },
  {
   "cell_type": "markdown",
   "metadata": {},
   "source": [
    "### Tabular Data"
   ]
  },
  {
   "cell_type": "code",
   "execution_count": 2,
   "metadata": {
    "scrolled": true
   },
   "outputs": [
    {
     "data": {
      "text/html": [
       "<div>\n",
       "<style scoped>\n",
       "    .dataframe tbody tr th:only-of-type {\n",
       "        vertical-align: middle;\n",
       "    }\n",
       "\n",
       "    .dataframe tbody tr th {\n",
       "        vertical-align: top;\n",
       "    }\n",
       "\n",
       "    .dataframe thead th {\n",
       "        text-align: right;\n",
       "    }\n",
       "</style>\n",
       "<table border=\"1\" class=\"dataframe\">\n",
       "  <thead>\n",
       "    <tr style=\"text-align: right;\">\n",
       "      <th></th>\n",
       "      <th>publisher</th>\n",
       "      <th>title</th>\n",
       "    </tr>\n",
       "  </thead>\n",
       "  <tbody>\n",
       "    <tr>\n",
       "      <th>0</th>\n",
       "      <td>Livemint</td>\n",
       "      <td>fed's charles plosser sees high bar for change...</td>\n",
       "    </tr>\n",
       "    <tr>\n",
       "      <th>1</th>\n",
       "      <td>IFA Magazine</td>\n",
       "      <td>us open: stocks fall after fed official hints ...</td>\n",
       "    </tr>\n",
       "    <tr>\n",
       "      <th>2</th>\n",
       "      <td>IFA Magazine</td>\n",
       "      <td>fed risks falling 'behind the curve', charles ...</td>\n",
       "    </tr>\n",
       "    <tr>\n",
       "      <th>3</th>\n",
       "      <td>Moneynews</td>\n",
       "      <td>fed's plosser: nasty weather has curbed job gr...</td>\n",
       "    </tr>\n",
       "    <tr>\n",
       "      <th>4</th>\n",
       "      <td>NASDAQ</td>\n",
       "      <td>plosser: fed may have to accelerate tapering pace</td>\n",
       "    </tr>\n",
       "  </tbody>\n",
       "</table>\n",
       "</div>"
      ],
      "text/plain": [
       "      publisher                                              title\n",
       "0      Livemint  fed's charles plosser sees high bar for change...\n",
       "1  IFA Magazine  us open: stocks fall after fed official hints ...\n",
       "2  IFA Magazine  fed risks falling 'behind the curve', charles ...\n",
       "3     Moneynews  fed's plosser: nasty weather has curbed job gr...\n",
       "4        NASDAQ  plosser: fed may have to accelerate tapering pace"
      ]
     },
     "execution_count": 2,
     "metadata": {},
     "output_type": "execute_result"
    }
   ],
   "source": [
    "import pandas as pd\n",
    "\n",
    "# Extract text column from a dataframe\n",
    "df = pd.read_csv(os.path.join(\"data\", \"news.csv\"))\n",
    "df.head()[['publisher', 'title']]\n",
    "\n",
    "# Convert text column to lowercase\n",
    "df['title'] = df['title'].str.lower()\n",
    "df.head()[['publisher', 'title']]"
   ]
  },
  {
   "cell_type": "markdown",
   "metadata": {},
   "source": [
    "### Online Resource"
   ]
  },
  {
   "cell_type": "code",
   "execution_count": 3,
   "metadata": {
    "scrolled": true
   },
   "outputs": [
    {
     "name": "stdout",
     "output_type": "stream",
     "text": [
      "{\n",
      "    \"success\": {\n",
      "        \"total\": 1\n",
      "    },\n",
      "    \"contents\": {\n",
      "        \"quotes\": [\n",
      "            {\n",
      "                \"quote\": \"What you do speaks so loudly that I cannot hear what you say.\",\n",
      "                \"length\": \"61\",\n",
      "                \"author\": \"Ralph Waldo Emerson\",\n",
      "                \"tags\": {\n",
      "                    \"0\": \"action\",\n",
      "                    \"1\": \"inspire\",\n",
      "                    \"2\": \"leadership\",\n",
      "                    \"3\": \"management\",\n",
      "                    \"5\": \"tod\"\n",
      "                },\n",
      "                \"category\": \"inspire\",\n",
      "                \"language\": \"en\",\n",
      "                \"date\": \"2020-07-09\",\n",
      "                \"permalink\": \"https://theysaidso.com/quote/ralph-waldo-emerson-what-you-do-speaks-so-loudly-that-i-cannot-hear-what-you-say\",\n",
      "                \"id\": \"eZ0NtMPtGp8c5eQJOBfJmweF\",\n",
      "                \"background\": \"https://theysaidso.com/img/qod/qod-inspire.jpg\",\n",
      "                \"title\": \"Inspiring Quote of the day\"\n",
      "            }\n",
      "        ]\n",
      "    },\n",
      "    \"baseurl\": \"https://theysaidso.com\",\n",
      "    \"copyright\": {\n",
      "        \"year\": 2022,\n",
      "        \"url\": \"https://theysaidso.com\"\n",
      "    }\n",
      "}\n",
      "What you do speaks so loudly that I cannot hear what you say. \n",
      "-- Ralph Waldo Emerson\n"
     ]
    }
   ],
   "source": [
    "import requests\n",
    "import json\n",
    "\n",
    "# Fetch data from a REST API\n",
    "r = requests.get(\n",
    "    \"https://quotes.rest/qod.json\")\n",
    "res = r.json()\n",
    "print(json.dumps(res, indent=4))\n",
    "\n",
    "# Extract relevant object and field\n",
    "q = res[\"contents\"][\"quotes\"][0]\n",
    "print(q[\"quote\"], \"\\n--\", q[\"author\"])"
   ]
  },
  {
   "cell_type": "markdown",
   "metadata": {},
   "source": [
    "## Cleaning"
   ]
  },
  {
   "cell_type": "code",
   "execution_count": 4,
   "metadata": {
    "scrolled": true
   },
   "outputs": [
    {
     "name": "stdout",
     "output_type": "stream",
     "text": [
      "<html lang=\"en\" op=\"news\"><head><meta name=\"referrer\" content=\"origin\"><meta name=\"viewport\" content=\"width=device-width, initial-scale=1.0\"><link rel=\"stylesheet\" type=\"text/css\" href=\"news.css?xxZKMVXn3yWHa2NZs4FV\">\n",
      "        <link rel=\"shortcut icon\" href=\"favicon.ico\">\n",
      "          <link rel=\"alternate\" type=\"application/rss+xml\" title=\"RSS\" href=\"rss\">\n",
      "        <title>Hacker News</title></head><body><center><table id=\"hnmain\" border=\"0\" cellpadding=\"0\" cellspacing=\"0\" width=\"85%\" bgcolor=\"#f6f6ef\">\n",
      "        <tr><td bgcolor=\"#ff6600\"><table border=\"0\" cellpadding=\"0\" cellspacing=\"0\" width=\"100%\" style=\"padding:2px\"><tr><td style=\"width:18px;padding-right:4px\"><a href=\"https://news.ycombinator.com\"><img src=\"y18.gif\" width=\"18\" height=\"18\" style=\"border:1px white solid;\"></a></td>\n",
      "                  <td style=\"line-height:12pt; height:10px;\"><span class=\"pagetop\"><b class=\"hnname\"><a href=\"news\">Hacker News</a></b>\n",
      "              <a href=\"newest\">new</a> | <a href=\"front\">past</a> | <a href=\"newcomments\">comments</a> | <a href=\"ask\">ask</a> | <a href=\"show\">show</a> | <a href=\"jobs\">jobs</a> | <a href=\"submit\">submit</a>            </span></td><td style=\"text-align:right;padding-right:4px;\"><span class=\"pagetop\">\n",
      "                              <a href=\"login?goto=news\">login</a>\n",
      "                          </span></td>\n",
      "              </tr></table></td></tr>\n",
      "<tr id=\"pagespace\" title=\"\" style=\"height:10px\"></tr><tr><td><table border=\"0\" cellpadding=\"0\" cellspacing=\"0\" class=\"itemlist\">\n",
      "              <tr class='athing' id='23779222'>\n",
      "      <td align=\"right\" valign=\"top\" class=\"title\"><span class=\"rank\">1.</span></td>      <td valign=\"top\" class=\"votelinks\"><center><a id='up_23779222' href='vote?id=23779222&amp;how=up&amp;goto=news'><div class='votearrow' title='upvote'></div></a></center></td><td class=\"title\"><a href=\"https://decentraleyes.org\" class=\"storylink\">Decentraleyes – Local CDN Emulation</a><span class=\"sitebit comhead\"> (<a href=\"from?site=decentraleyes.org\"><span class=\"sitestr\">decentraleyes.org</span></a>)</span></td></tr><tr><td colspan=\"2\"></td><td class=\"subtext\">\n",
      "        <span class=\"score\" id=\"score_23779222\">76 points</span> by <a href=\"user?id=thunderbong\" class=\"hnuser\">thunderbong</a> <span class=\"age\"><a href=\"item?id=23779222\">2 hours ago</a></span> <span id=\"unv_23779222\"></span> | <a href=\"hide?id=23779222&amp;goto=news\">hide</a> | <a href=\"item?id=23779222\">30&nbsp;comments</a>              </td></tr>\n",
      "      <tr class=\"spacer\" style=\"height:5px\"></tr>\n",
      "                <tr class='athing' id='23779894'>\n",
      "      <td align=\"right\" valign=\"top\" class=\"title\"><span class=\"rank\">2.</span></td>      <td valign=\"top\" class=\"votelinks\"><center><a id='up_23779894' href='vote?id=23779894&amp;how=up&amp;goto=news'><div class='votearrow' title='upvote'></div></a></center></td><td class=\"title\"><a href=\"https://research.swtch.com/acme\" class=\"storylink\">A Tour of Acme (2012)</a><span class=\"sitebit comhead\"> (<a href=\"from?site=swtch.com\"><span class=\"sitestr\">swtch.com</span></a>)</span></td></tr><tr><td colspan=\"2\"></td><td class=\"subtext\">\n",
      "        <span class=\"score\" id=\"score_23779894\">27 points</span> by <a href=\"user?id=gklitt\" class=\"hnuser\">gklitt</a> <span class=\"age\"><a href=\"item?id=23779894\">1 hour ago</a></span> <span id=\"unv_23779894\"></span> | <a href=\"hide?id=23779894&amp;goto=news\">hide</a> | <a href=\"item?id=23779894\">3&nbsp;comments</a>              </td></tr>\n",
      "      <tr class=\"spacer\" style=\"height:5px\"></tr>\n",
      "                <tr class='athing' id='23780062'>\n",
      "      <td align=\"right\" valign=\"top\" class=\"title\"><span class=\"rank\">3.</span></td>      <td valign=\"top\" class=\"votelinks\"><center><a id='up_23780062' href='vote?id=23780062&amp;how=up&amp;goto=news'><div class='votearrow' title='upvote'></div></a></center></td><td class=\"title\"><a href=\"item?id=23780062\" class=\"storylink\">Launch HN: Yotta Savings (YC S20) – Behavioral psychology to help people save</a></td></tr><tr><td colspan=\"2\"></td><td class=\"subtext\">\n",
      "        <span class=\"score\" id=\"score_23780062\">31 points</span> by <a href=\"user?id=adammoelis\" class=\"hnuser\">adammoelis</a> <span class=\"age\"><a href=\"item?id=23780062\">50 minutes ago</a></span> <span id=\"unv_23780062\"></span> | <a href=\"hide?id=23780062&amp;goto=news\">hide</a> | <a href=\"item?id=23780062\">17&nbsp;comments</a>              </td></tr>\n",
      "      <tr class=\"spacer\" style=\"height:5px\"></tr>\n",
      "                <tr class='athing' id='23775404'>\n",
      "      <td align=\"right\" valign=\"top\" class=\"title\"><span class=\"rank\">4.</span></td>      <td valign=\"top\" class=\"votelinks\"><center><a id='up_23775404' href='vote?id=23775404&amp;how=up&amp;goto=news'><div class='votearrow' title='upvote'></div></a></center></td><td class=\"title\"><a href=\"http://web.mit.edu/jemorris/humor/500-miles\" class=\"storylink\">We can't send email more than 500 miles (2002)</a><span class=\"sitebit comhead\"> (<a href=\"from?site=web.mit.edu\"><span class=\"sitestr\">web.mit.edu</span></a>)</span></td></tr><tr><td colspan=\"2\"></td><td class=\"subtext\">\n",
      "        <span class=\"score\" id=\"score_23775404\">811 points</span> by <a href=\"user?id=alanpage\" class=\"hnuser\">alanpage</a> <span class=\"age\"><a href=\"item?id=23775404\">15 hours ago</a></span> <span id=\"unv_23775404\"></span> | <a href=\"hide?id=23775404&amp;goto=news\">hide</a> | <a href=\"item?id=23775404\">120&nbsp;comments</a>              </td></tr>\n",
      "      <tr class=\"spacer\" style=\"height:5px\"></tr>\n",
      "                <tr class='athing' id='23776514'>\n",
      "      <td align=\"right\" valign=\"top\" class=\"title\"><span class=\"rank\">5.</span></td>      <td valign=\"top\" class=\"votelinks\"><center><a id='up_23776514' href='vote?id=23776514&amp;how=up&amp;goto=news'><div class='votearrow' title='upvote'></div></a></center></td><td class=\"title\"><a href=\"https://nicolodavis.com/blog/typescript-to-rust/\" class=\"storylink\">Moving from TypeScript to Rust / WebAssembly</a><span class=\"sitebit comhead\"> (<a href=\"from?site=nicolodavis.com\"><span class=\"sitestr\">nicolodavis.com</span></a>)</span></td></tr><tr><td colspan=\"2\"></td><td class=\"subtext\">\n",
      "        <span class=\"score\" id=\"score_23776514\">402 points</span> by <a href=\"user?id=nicolodavis\" class=\"hnuser\">nicolodavis</a> <span class=\"age\"><a href=\"item?id=23776514\">11 hours ago</a></span> <span id=\"unv_23776514\"></span> | <a href=\"hide?id=23776514&amp;goto=news\">hide</a> | <a href=\"item?id=23776514\">286&nbsp;comments</a>              </td></tr>\n",
      "      <tr class=\"spacer\" style=\"height:5px\"></tr>\n",
      "                <tr class='athing' id='23778500'>\n",
      "      <td align=\"right\" valign=\"top\" class=\"title\"><span class=\"rank\">6.</span></td>      <td valign=\"top\" class=\"votelinks\"><center><a id='up_23778500' href='vote?id=23778500&amp;how=up&amp;goto=news'><div class='votearrow' title='upvote'></div></a></center></td><td class=\"title\"><a href=\"https://phys.org/news/2020-07-giant-clams-symbiotic-partner.html\" class=\"storylink\">Giant clams manipulate light to assist their symbiotic partner</a><span class=\"sitebit comhead\"> (<a href=\"from?site=phys.org\"><span class=\"sitestr\">phys.org</span></a>)</span></td></tr><tr><td colspan=\"2\"></td><td class=\"subtext\">\n",
      "        <span class=\"score\" id=\"score_23778500\">13 points</span> by <a href=\"user?id=lelf\" class=\"hnuser\">lelf</a> <span class=\"age\"><a href=\"item?id=23778500\">1 hour ago</a></span> <span id=\"unv_23778500\"></span> | <a href=\"hide?id=23778500&amp;goto=news\">hide</a> | <a href=\"item?id=23778500\">4&nbsp;comments</a>              </td></tr>\n",
      "      <tr class=\"spacer\" style=\"height:5px\"></tr>\n",
      "                <tr class='athing' id='23779420'>\n",
      "      <td align=\"right\" valign=\"top\" class=\"title\"><span class=\"rank\">7.</span></td>      <td valign=\"top\" class=\"votelinks\"><center><a id='up_23779420' href='vote?id=23779420&amp;how=up&amp;goto=news'><div class='votearrow' title='upvote'></div></a></center></td><td class=\"title\"><a href=\"https://www.oregonlive.com/portland/2020/07/portland-approves-10-cap-on-fees-that-food-delivery-apps-can-charge-restaurants.html\" class=\"storylink\">Portland approves 10% cap on fees that food delivery apps can charge restaurants</a><span class=\"sitebit comhead\"> (<a href=\"from?site=oregonlive.com\"><span class=\"sitestr\">oregonlive.com</span></a>)</span></td></tr><tr><td colspan=\"2\"></td><td class=\"subtext\">\n",
      "        <span class=\"score\" id=\"score_23779420\">140 points</span> by <a href=\"user?id=Shivetya\" class=\"hnuser\">Shivetya</a> <span class=\"age\"><a href=\"item?id=23779420\">2 hours ago</a></span> <span id=\"unv_23779420\"></span> | <a href=\"hide?id=23779420&amp;goto=news\">hide</a> | <a href=\"item?id=23779420\">150&nbsp;comments</a>              </td></tr>\n",
      "      <tr class=\"spacer\" style=\"height:5px\"></tr>\n",
      "                <tr class='athing' id='23779175'>\n",
      "      <td align=\"right\" valign=\"top\" class=\"title\"><span class=\"rank\">8.</span></td>      <td valign=\"top\" class=\"votelinks\"><center><a id='up_23779175' href='vote?id=23779175&amp;how=up&amp;goto=news'><div class='votearrow' title='upvote'></div></a></center></td><td class=\"title\"><a href=\"https://www.discovermagazine.com/health/vital-signs-the-woman-who-needed-to-be-upside-down\" class=\"storylink\">A Woman Who Needed to Be Upside-Down (2012)</a><span class=\"sitebit comhead\"> (<a href=\"from?site=discovermagazine.com\"><span class=\"sitestr\">discovermagazine.com</span></a>)</span></td></tr><tr><td colspan=\"2\"></td><td class=\"subtext\">\n",
      "        <span class=\"score\" id=\"score_23779175\">71 points</span> by <a href=\"user?id=ColinWright\" class=\"hnuser\">ColinWright</a> <span class=\"age\"><a href=\"item?id=23779175\">2 hours ago</a></span> <span id=\"unv_23779175\"></span> | <a href=\"hide?id=23779175&amp;goto=news\">hide</a> | <a href=\"item?id=23779175\">10&nbsp;comments</a>              </td></tr>\n",
      "      <tr class=\"spacer\" style=\"height:5px\"></tr>\n",
      "                <tr class='athing' id='23780345'>\n",
      "      <td align=\"right\" valign=\"top\" class=\"title\"><span class=\"rank\">9.</span></td>      <td></td><td class=\"title\"><a href=\"https://bitmovin.com/careers-legacy/4331187002/?gh_jid=4331187002\" class=\"storylink\" rel=\"nofollow\">Bitmovin (YC S15) Hires Solutions Architects in Denver</a><span class=\"sitebit comhead\"> (<a href=\"from?site=bitmovin.com\"><span class=\"sitestr\">bitmovin.com</span></a>)</span></td></tr><tr><td colspan=\"2\"></td><td class=\"subtext\">\n",
      "        <span class=\"age\"><a href=\"item?id=23780345\">27 minutes ago</a></span> | <a href=\"hide?id=23780345&amp;goto=news\">hide</a>      </td></tr>\n",
      "      <tr class=\"spacer\" style=\"height:5px\"></tr>\n",
      "                <tr class='athing' id='23777355'>\n",
      "      <td align=\"right\" valign=\"top\" class=\"title\"><span class=\"rank\">10.</span></td>      <td valign=\"top\" class=\"votelinks\"><center><a id='up_23777355' href='vote?id=23777355&amp;how=up&amp;goto=news'><div class='votearrow' title='upvote'></div></a></center></td><td class=\"title\"><a href=\"https://github.com/idris-lang/Idris2/pull/415\" class=\"storylink\">New JavaScript code generator has landed in Idris 2</a><span class=\"sitebit comhead\"> (<a href=\"from?site=github.com\"><span class=\"sitestr\">github.com</span></a>)</span></td></tr><tr><td colspan=\"2\"></td><td class=\"subtext\">\n",
      "        <span class=\"score\" id=\"score_23777355\">108 points</span> by <a href=\"user?id=ska80\" class=\"hnuser\">ska80</a> <span class=\"age\"><a href=\"item?id=23777355\">8 hours ago</a></span> <span id=\"unv_23777355\"></span> | <a href=\"hide?id=23777355&amp;goto=news\">hide</a> | <a href=\"item?id=23777355\">5&nbsp;comments</a>              </td></tr>\n",
      "      <tr class=\"spacer\" style=\"height:5px\"></tr>\n",
      "                <tr class='athing' id='23777460'>\n",
      "      <td align=\"right\" valign=\"top\" class=\"title\"><span class=\"rank\">11.</span></td>      <td valign=\"top\" class=\"votelinks\"><center><a id='up_23777460' href='vote?id=23777460&amp;how=up&amp;goto=news'><div class='votearrow' title='upvote'></div></a></center></td><td class=\"title\"><a href=\"https://oss.redislabs.com/redisearch/\" class=\"storylink\">RediSearch – Redis Powered Search Engine</a><span class=\"sitebit comhead\"> (<a href=\"from?site=redislabs.com\"><span class=\"sitestr\">redislabs.com</span></a>)</span></td></tr><tr><td colspan=\"2\"></td><td class=\"subtext\">\n",
      "        <span class=\"score\" id=\"score_23777460\">118 points</span> by <a href=\"user?id=gilad\" class=\"hnuser\">gilad</a> <span class=\"age\"><a href=\"item?id=23777460\">8 hours ago</a></span> <span id=\"unv_23777460\"></span> | <a href=\"hide?id=23777460&amp;goto=news\">hide</a> | <a href=\"item?id=23777460\">66&nbsp;comments</a>              </td></tr>\n",
      "      <tr class=\"spacer\" style=\"height:5px\"></tr>\n",
      "                <tr class='athing' id='23778510'>\n",
      "      <td align=\"right\" valign=\"top\" class=\"title\"><span class=\"rank\">12.</span></td>      <td valign=\"top\" class=\"votelinks\"><center><a id='up_23778510' href='vote?id=23778510&amp;how=up&amp;goto=news'><div class='votearrow' title='upvote'></div></a></center></td><td class=\"title\"><a href=\"https://edavis.github.io/hnrss/\" class=\"storylink\">Hacker News RSS Feeds</a><span class=\"sitebit comhead\"> (<a href=\"from?site=edavis.github.io\"><span class=\"sitestr\">edavis.github.io</span></a>)</span></td></tr><tr><td colspan=\"2\"></td><td class=\"subtext\">\n",
      "        <span class=\"score\" id=\"score_23778510\">122 points</span> by <a href=\"user?id=tejado\" class=\"hnuser\">tejado</a> <span class=\"age\"><a href=\"item?id=23778510\">4 hours ago</a></span> <span id=\"unv_23778510\"></span> | <a href=\"hide?id=23778510&amp;goto=news\">hide</a> | <a href=\"item?id=23778510\">28&nbsp;comments</a>              </td></tr>\n",
      "      <tr class=\"spacer\" style=\"height:5px\"></tr>\n",
      "                <tr class='athing' id='23776994'>\n",
      "      <td align=\"right\" valign=\"top\" class=\"title\"><span class=\"rank\">13.</span></td>      <td valign=\"top\" class=\"votelinks\"><center><a id='up_23776994' href='vote?id=23776994&amp;how=up&amp;goto=news'><div class='votearrow' title='upvote'></div></a></center></td><td class=\"title\"><a href=\"https://developer.ibm.com/components/istio/blogs/istio-google-open-usage-commons/\" class=\"storylink\">Why IBM Doesn’t Agree with Google’s Open Usage Commons for the Istio Project</a><span class=\"sitebit comhead\"> (<a href=\"from?site=ibm.com\"><span class=\"sitestr\">ibm.com</span></a>)</span></td></tr><tr><td colspan=\"2\"></td><td class=\"subtext\">\n",
      "        <span class=\"score\" id=\"score_23776994\">146 points</span> by <a href=\"user?id=bharatsb\" class=\"hnuser\">bharatsb</a> <span class=\"age\"><a href=\"item?id=23776994\">9 hours ago</a></span> <span id=\"unv_23776994\"></span> | <a href=\"hide?id=23776994&amp;goto=news\">hide</a> | <a href=\"item?id=23776994\">60&nbsp;comments</a>              </td></tr>\n",
      "      <tr class=\"spacer\" style=\"height:5px\"></tr>\n",
      "                <tr class='athing' id='23778714'>\n",
      "      <td align=\"right\" valign=\"top\" class=\"title\"><span class=\"rank\">14.</span></td>      <td valign=\"top\" class=\"votelinks\"><center><a id='up_23778714' href='vote?id=23778714&amp;how=up&amp;goto=news'><div class='votearrow' title='upvote'></div></a></center></td><td class=\"title\"><a href=\"https://www.scientificamerican.com/article/animals-use-social-distancing-to-avoid-disease1/\" class=\"storylink\">Animals Use Social Distancing to Avoid Disease</a><span class=\"sitebit comhead\"> (<a href=\"from?site=scientificamerican.com\"><span class=\"sitestr\">scientificamerican.com</span></a>)</span></td></tr><tr><td colspan=\"2\"></td><td class=\"subtext\">\n",
      "        <span class=\"score\" id=\"score_23778714\">67 points</span> by <a href=\"user?id=anthilemoon\" class=\"hnuser\">anthilemoon</a> <span class=\"age\"><a href=\"item?id=23778714\">3 hours ago</a></span> <span id=\"unv_23778714\"></span> | <a href=\"hide?id=23778714&amp;goto=news\">hide</a> | <a href=\"item?id=23778714\">55&nbsp;comments</a>              </td></tr>\n",
      "      <tr class=\"spacer\" style=\"height:5px\"></tr>\n",
      "                <tr class='athing' id='23779616'>\n",
      "      <td align=\"right\" valign=\"top\" class=\"title\"><span class=\"rank\">15.</span></td>      <td valign=\"top\" class=\"votelinks\"><center><a id='up_23779616' href='vote?id=23779616&amp;how=up&amp;goto=news'><div class='votearrow' title='upvote'></div></a></center></td><td class=\"title\"><a href=\"https://directmemo.io/blog/how-to-launch-when-the-app-store-rejects-you?ref=HackerNews\" class=\"storylink\">How to launch when the app directory rejects you</a><span class=\"sitebit comhead\"> (<a href=\"from?site=directmemo.io\"><span class=\"sitestr\">directmemo.io</span></a>)</span></td></tr><tr><td colspan=\"2\"></td><td class=\"subtext\">\n",
      "        <span class=\"score\" id=\"score_23779616\">35 points</span> by <a href=\"user?id=jsmoov\" class=\"hnuser\">jsmoov</a> <span class=\"age\"><a href=\"item?id=23779616\">1 hour ago</a></span> <span id=\"unv_23779616\"></span> | <a href=\"hide?id=23779616&amp;goto=news\">hide</a> | <a href=\"item?id=23779616\">22&nbsp;comments</a>              </td></tr>\n",
      "      <tr class=\"spacer\" style=\"height:5px\"></tr>\n",
      "                <tr class='athing' id='23778631'>\n",
      "      <td align=\"right\" valign=\"top\" class=\"title\"><span class=\"rank\">16.</span></td>      <td valign=\"top\" class=\"votelinks\"><center><a id='up_23778631' href='vote?id=23778631&amp;how=up&amp;goto=news'><div class='votearrow' title='upvote'></div></a></center></td><td class=\"title\"><a href=\"https://www.techspot.com/news/85932-nvidia-passes-intel-most-valuable-us-chipmaker.html\" class=\"storylink\">Nvidia is now worth more than Intel</a><span class=\"sitebit comhead\"> (<a href=\"from?site=techspot.com\"><span class=\"sitestr\">techspot.com</span></a>)</span></td></tr><tr><td colspan=\"2\"></td><td class=\"subtext\">\n",
      "        <span class=\"score\" id=\"score_23778631\">101 points</span> by <a href=\"user?id=neogodless\" class=\"hnuser\">neogodless</a> <span class=\"age\"><a href=\"item?id=23778631\">4 hours ago</a></span> <span id=\"unv_23778631\"></span> | <a href=\"hide?id=23778631&amp;goto=news\">hide</a> | <a href=\"item?id=23778631\">78&nbsp;comments</a>              </td></tr>\n",
      "      <tr class=\"spacer\" style=\"height:5px\"></tr>\n",
      "                <tr class='athing' id='23775704'>\n",
      "      <td align=\"right\" valign=\"top\" class=\"title\"><span class=\"rank\">17.</span></td>      <td valign=\"top\" class=\"votelinks\"><center><a id='up_23775704' href='vote?id=23775704&amp;how=up&amp;goto=news'><div class='votearrow' title='upvote'></div></a></center></td><td class=\"title\"><a href=\"https://blog.torproject.org/more-onions-porfavor\" class=\"storylink\">MoreOnionsPorfavor: Onionize your website and take back the internet</a><span class=\"sitebit comhead\"> (<a href=\"from?site=torproject.org\"><span class=\"sitestr\">torproject.org</span></a>)</span></td></tr><tr><td colspan=\"2\"></td><td class=\"subtext\">\n",
      "        <span class=\"score\" id=\"score_23775704\">214 points</span> by <a href=\"user?id=worldofmatthew\" class=\"hnuser\">worldofmatthew</a> <span class=\"age\"><a href=\"item?id=23775704\">14 hours ago</a></span> <span id=\"unv_23775704\"></span> | <a href=\"hide?id=23775704&amp;goto=news\">hide</a> | <a href=\"item?id=23775704\">125&nbsp;comments</a>              </td></tr>\n",
      "      <tr class=\"spacer\" style=\"height:5px\"></tr>\n",
      "                <tr class='athing' id='23778614'>\n",
      "      <td align=\"right\" valign=\"top\" class=\"title\"><span class=\"rank\">18.</span></td>      <td valign=\"top\" class=\"votelinks\"><center><a id='up_23778614' href='vote?id=23778614&amp;how=up&amp;goto=news'><div class='votearrow' title='upvote'></div></a></center></td><td class=\"title\"><a href=\"https://cheapskatesguide.org/articles/computer-self-reliance.html\" class=\"storylink\">Developing Computer Self-Reliance</a><span class=\"sitebit comhead\"> (<a href=\"from?site=cheapskatesguide.org\"><span class=\"sitestr\">cheapskatesguide.org</span></a>)</span></td></tr><tr><td colspan=\"2\"></td><td class=\"subtext\">\n",
      "        <span class=\"score\" id=\"score_23778614\">37 points</span> by <a href=\"user?id=sT370ma2\" class=\"hnuser\">sT370ma2</a> <span class=\"age\"><a href=\"item?id=23778614\">4 hours ago</a></span> <span id=\"unv_23778614\"></span> | <a href=\"hide?id=23778614&amp;goto=news\">hide</a> | <a href=\"item?id=23778614\">12&nbsp;comments</a>              </td></tr>\n",
      "      <tr class=\"spacer\" style=\"height:5px\"></tr>\n",
      "                <tr class='athing' id='23774394'>\n",
      "      <td align=\"right\" valign=\"top\" class=\"title\"><span class=\"rank\">19.</span></td>      <td valign=\"top\" class=\"votelinks\"><center><a id='up_23774394' href='vote?id=23774394&amp;how=up&amp;goto=news'><div class='votearrow' title='upvote'></div></a></center></td><td class=\"title\"><a href=\"https://smitop.com/post/reddit-whiteops/\" class=\"storylink\">Reddit's website uses DRM for fingerprinting</a><span class=\"sitebit comhead\"> (<a href=\"from?site=smitop.com\"><span class=\"sitestr\">smitop.com</span></a>)</span></td></tr><tr><td colspan=\"2\"></td><td class=\"subtext\">\n",
      "        <span class=\"score\" id=\"score_23774394\">882 points</span> by <a href=\"user?id=smitop\" class=\"hnuser\">smitop</a> <span class=\"age\"><a href=\"item?id=23774394\">17 hours ago</a></span> <span id=\"unv_23774394\"></span> | <a href=\"hide?id=23774394&amp;goto=news\">hide</a> | <a href=\"item?id=23774394\">462&nbsp;comments</a>              </td></tr>\n",
      "      <tr class=\"spacer\" style=\"height:5px\"></tr>\n",
      "                <tr class='athing' id='23779396'>\n",
      "      <td align=\"right\" valign=\"top\" class=\"title\"><span class=\"rank\">20.</span></td>      <td valign=\"top\" class=\"votelinks\"><center><a id='up_23779396' href='vote?id=23779396&amp;how=up&amp;goto=news'><div class='votearrow' title='upvote'></div></a></center></td><td class=\"title\"><a href=\"https://nbt.substack.com/p/the-rise-of-the-solo-capitalists\" class=\"storylink\">The Rise of the Solo Capitalists</a><span class=\"sitebit comhead\"> (<a href=\"from?site=nbt.substack.com\"><span class=\"sitestr\">nbt.substack.com</span></a>)</span></td></tr><tr><td colspan=\"2\"></td><td class=\"subtext\">\n",
      "        <span class=\"score\" id=\"score_23779396\">30 points</span> by <a href=\"user?id=yarapavan\" class=\"hnuser\">yarapavan</a> <span class=\"age\"><a href=\"item?id=23779396\">2 hours ago</a></span> <span id=\"unv_23779396\"></span> | <a href=\"hide?id=23779396&amp;goto=news\">hide</a> | <a href=\"item?id=23779396\">6&nbsp;comments</a>              </td></tr>\n",
      "      <tr class=\"spacer\" style=\"height:5px\"></tr>\n",
      "                <tr class='athing' id='23773545'>\n",
      "      <td align=\"right\" valign=\"top\" class=\"title\"><span class=\"rank\">21.</span></td>      <td valign=\"top\" class=\"votelinks\"><center><a id='up_23773545' href='vote?id=23773545&amp;how=up&amp;goto=news'><div class='votearrow' title='upvote'></div></a></center></td><td class=\"title\"><a href=\"https://www.nature.com/articles/s41586-020-2487-2\" class=\"storylink\">Native American gene flow into Polynesia predating Easter Island settlement</a><span class=\"sitebit comhead\"> (<a href=\"from?site=nature.com\"><span class=\"sitestr\">nature.com</span></a>)</span></td></tr><tr><td colspan=\"2\"></td><td class=\"subtext\">\n",
      "        <span class=\"score\" id=\"score_23773545\">46 points</span> by <a href=\"user?id=Thevet\" class=\"hnuser\">Thevet</a> <span class=\"age\"><a href=\"item?id=23773545\">9 hours ago</a></span> <span id=\"unv_23773545\"></span> | <a href=\"hide?id=23773545&amp;goto=news\">hide</a> | <a href=\"item?id=23773545\">14&nbsp;comments</a>              </td></tr>\n",
      "      <tr class=\"spacer\" style=\"height:5px\"></tr>\n",
      "                <tr class='athing' id='23778307'>\n",
      "      <td align=\"right\" valign=\"top\" class=\"title\"><span class=\"rank\">22.</span></td>      <td valign=\"top\" class=\"votelinks\"><center><a id='up_23778307' href='vote?id=23778307&amp;how=up&amp;goto=news'><div class='votearrow' title='upvote'></div></a></center></td><td class=\"title\"><a href=\"https://www.jamalx31.com/post/between-workaholism-procrastination\" class=\"storylink\">Between Workaholism and Procrastination (2015)</a><span class=\"sitebit comhead\"> (<a href=\"from?site=jamalx31.com\"><span class=\"sitestr\">jamalx31.com</span></a>)</span></td></tr><tr><td colspan=\"2\"></td><td class=\"subtext\">\n",
      "        <span class=\"score\" id=\"score_23778307\">39 points</span> by <a href=\"user?id=jamalx31\" class=\"hnuser\">jamalx31</a> <span class=\"age\"><a href=\"item?id=23778307\">5 hours ago</a></span> <span id=\"unv_23778307\"></span> | <a href=\"hide?id=23778307&amp;goto=news\">hide</a> | <a href=\"item?id=23778307\">24&nbsp;comments</a>              </td></tr>\n",
      "      <tr class=\"spacer\" style=\"height:5px\"></tr>\n",
      "                <tr class='athing' id='23771847'>\n",
      "      <td align=\"right\" valign=\"top\" class=\"title\"><span class=\"rank\">23.</span></td>      <td valign=\"top\" class=\"votelinks\"><center><a id='up_23771847' href='vote?id=23771847&amp;how=up&amp;goto=news'><div class='votearrow' title='upvote'></div></a></center></td><td class=\"title\"><a href=\"https://lwn.net/SubscriberLink/825005/6440c82feb745bbe/\" class=\"storylink\">Linux Mint drops Ubuntu Snap packages</a><span class=\"sitebit comhead\"> (<a href=\"from?site=lwn.net\"><span class=\"sitestr\">lwn.net</span></a>)</span></td></tr><tr><td colspan=\"2\"></td><td class=\"subtext\">\n",
      "        <span class=\"score\" id=\"score_23771847\">1009 points</span> by <a href=\"user?id=jonquark\" class=\"hnuser\">jonquark</a> <span class=\"age\"><a href=\"item?id=23771847\">21 hours ago</a></span> <span id=\"unv_23771847\"></span> | <a href=\"hide?id=23771847&amp;goto=news\">hide</a> | <a href=\"item?id=23771847\">444&nbsp;comments</a>              </td></tr>\n",
      "      <tr class=\"spacer\" style=\"height:5px\"></tr>\n",
      "                <tr class='athing' id='23780209'>\n",
      "      <td align=\"right\" valign=\"top\" class=\"title\"><span class=\"rank\">24.</span></td>      <td valign=\"top\" class=\"votelinks\"><center><a id='up_23780209' href='vote?id=23780209&amp;how=up&amp;goto=news'><div class='votearrow' title='upvote'></div></a></center></td><td class=\"title\"><a href=\"https://theconversation.com/cern-physicists-report-the-discovery-of-unique-new-particle-142315\" class=\"storylink\">CERN-Particle made of 4 charm quarks could be the first compact tetraquark found</a><span class=\"sitebit comhead\"> (<a href=\"from?site=theconversation.com\"><span class=\"sitestr\">theconversation.com</span></a>)</span></td></tr><tr><td colspan=\"2\"></td><td class=\"subtext\">\n",
      "        <span class=\"score\" id=\"score_23780209\">10 points</span> by <a href=\"user?id=simplertms\" class=\"hnuser\">simplertms</a> <span class=\"age\"><a href=\"item?id=23780209\">39 minutes ago</a></span> <span id=\"unv_23780209\"></span> | <a href=\"hide?id=23780209&amp;goto=news\">hide</a> | <a href=\"item?id=23780209\">discuss</a>              </td></tr>\n",
      "      <tr class=\"spacer\" style=\"height:5px\"></tr>\n",
      "                <tr class='athing' id='23777128'>\n",
      "      <td align=\"right\" valign=\"top\" class=\"title\"><span class=\"rank\">25.</span></td>      <td valign=\"top\" class=\"votelinks\"><center><a id='up_23777128' href='vote?id=23777128&amp;how=up&amp;goto=news'><div class='votearrow' title='upvote'></div></a></center></td><td class=\"title\"><a href=\"https://locusmag.com/2020/07/cory-doctorow-full-employment/\" class=\"storylink\">Full Employment</a><span class=\"sitebit comhead\"> (<a href=\"from?site=locusmag.com\"><span class=\"sitestr\">locusmag.com</span></a>)</span></td></tr><tr><td colspan=\"2\"></td><td class=\"subtext\">\n",
      "        <span class=\"score\" id=\"score_23777128\">116 points</span> by <a href=\"user?id=anigbrowl\" class=\"hnuser\">anigbrowl</a> <span class=\"age\"><a href=\"item?id=23777128\">9 hours ago</a></span> <span id=\"unv_23777128\"></span> | <a href=\"hide?id=23777128&amp;goto=news\">hide</a> | <a href=\"item?id=23777128\">123&nbsp;comments</a>              </td></tr>\n",
      "      <tr class=\"spacer\" style=\"height:5px\"></tr>\n",
      "                <tr class='athing' id='23779659'>\n",
      "      <td align=\"right\" valign=\"top\" class=\"title\"><span class=\"rank\">26.</span></td>      <td valign=\"top\" class=\"votelinks\"><center><a id='up_23779659' href='vote?id=23779659&amp;how=up&amp;goto=news'><div class='votearrow' title='upvote'></div></a></center></td><td class=\"title\"><a href=\"https://play.rust-lang.org/\" class=\"storylink\">Rust Playground</a><span class=\"sitebit comhead\"> (<a href=\"from?site=rust-lang.org\"><span class=\"sitestr\">rust-lang.org</span></a>)</span></td></tr><tr><td colspan=\"2\"></td><td class=\"subtext\">\n",
      "        <span class=\"score\" id=\"score_23779659\">64 points</span> by <a href=\"user?id=tosh\" class=\"hnuser\">tosh</a> <span class=\"age\"><a href=\"item?id=23779659\">1 hour ago</a></span> <span id=\"unv_23779659\"></span> | <a href=\"hide?id=23779659&amp;goto=news\">hide</a> | <a href=\"item?id=23779659\">16&nbsp;comments</a>              </td></tr>\n",
      "      <tr class=\"spacer\" style=\"height:5px\"></tr>\n",
      "                <tr class='athing' id='23778525'>\n",
      "      <td align=\"right\" valign=\"top\" class=\"title\"><span class=\"rank\">27.</span></td>      <td valign=\"top\" class=\"votelinks\"><center><a id='up_23778525' href='vote?id=23778525&amp;how=up&amp;goto=news'><div class='votearrow' title='upvote'></div></a></center></td><td class=\"title\"><a href=\"https://danielbmarkham.locals.com/post/80708/technical-tuesdays-markdig-and-error-free-programming-in-f\" class=\"storylink\">Markdig and Error-Free Programming in F#</a><span class=\"sitebit comhead\"> (<a href=\"from?site=locals.com\"><span class=\"sitestr\">locals.com</span></a>)</span></td></tr><tr><td colspan=\"2\"></td><td class=\"subtext\">\n",
      "        <span class=\"score\" id=\"score_23778525\">27 points</span> by <a href=\"user?id=todsacerdoti\" class=\"hnuser\">todsacerdoti</a> <span class=\"age\"><a href=\"item?id=23778525\">4 hours ago</a></span> <span id=\"unv_23778525\"></span> | <a href=\"hide?id=23778525&amp;goto=news\">hide</a> | <a href=\"item?id=23778525\">2&nbsp;comments</a>              </td></tr>\n",
      "      <tr class=\"spacer\" style=\"height:5px\"></tr>\n",
      "                <tr class='athing' id='23780125'>\n",
      "      <td align=\"right\" valign=\"top\" class=\"title\"><span class=\"rank\">28.</span></td>      <td valign=\"top\" class=\"votelinks\"><center><a id='up_23780125' href='vote?id=23780125&amp;how=up&amp;goto=news'><div class='votearrow' title='upvote'></div></a></center></td><td class=\"title\"><a href=\"https://www.vice.com/en_us/article/3azvey/police-buying-hacked-data-spycloud\" class=\"storylink\">Police Are Buying Access to Hacked Website Data</a><span class=\"sitebit comhead\"> (<a href=\"from?site=vice.com\"><span class=\"sitestr\">vice.com</span></a>)</span></td></tr><tr><td colspan=\"2\"></td><td class=\"subtext\">\n",
      "        <span class=\"score\" id=\"score_23780125\">7 points</span> by <a href=\"user?id=LinuxBender\" class=\"hnuser\">LinuxBender</a> <span class=\"age\"><a href=\"item?id=23780125\">45 minutes ago</a></span> <span id=\"unv_23780125\"></span> | <a href=\"hide?id=23780125&amp;goto=news\">hide</a> | <a href=\"item?id=23780125\">discuss</a>              </td></tr>\n",
      "      <tr class=\"spacer\" style=\"height:5px\"></tr>\n",
      "                <tr class='athing' id='23776362'>\n",
      "      <td align=\"right\" valign=\"top\" class=\"title\"><span class=\"rank\">29.</span></td>      <td valign=\"top\" class=\"votelinks\"><center><a id='up_23776362' href='vote?id=23776362&amp;how=up&amp;goto=news'><div class='votearrow' title='upvote'></div></a></center></td><td class=\"title\"><a href=\"https://www.jopdesign.com/\" class=\"storylink\">Java Optimized Processor (2005)</a><span class=\"sitebit comhead\"> (<a href=\"from?site=jopdesign.com\"><span class=\"sitestr\">jopdesign.com</span></a>)</span></td></tr><tr><td colspan=\"2\"></td><td class=\"subtext\">\n",
      "        <span class=\"score\" id=\"score_23776362\">58 points</span> by <a href=\"user?id=Koshkin\" class=\"hnuser\">Koshkin</a> <span class=\"age\"><a href=\"item?id=23776362\">12 hours ago</a></span> <span id=\"unv_23776362\"></span> | <a href=\"hide?id=23776362&amp;goto=news\">hide</a> | <a href=\"item?id=23776362\">44&nbsp;comments</a>              </td></tr>\n",
      "      <tr class=\"spacer\" style=\"height:5px\"></tr>\n",
      "                <tr class='athing' id='23776786'>\n",
      "      <td align=\"right\" valign=\"top\" class=\"title\"><span class=\"rank\">30.</span></td>      <td valign=\"top\" class=\"votelinks\"><center><a id='up_23776786' href='vote?id=23776786&amp;how=up&amp;goto=news'><div class='votearrow' title='upvote'></div></a></center></td><td class=\"title\"><a href=\"https://fontcdn.toolforge.org\" class=\"storylink\">Wikimedia FontCDN – an anonymizing, privacy-first reverse proxy to Google Fonts</a><span class=\"sitebit comhead\"> (<a href=\"from?site=toolforge.org\"><span class=\"sitestr\">toolforge.org</span></a>)</span></td></tr><tr><td colspan=\"2\"></td><td class=\"subtext\">\n",
      "        <span class=\"score\" id=\"score_23776786\">64 points</span> by <a href=\"user?id=supercucumber\" class=\"hnuser\">supercucumber</a> <span class=\"age\"><a href=\"item?id=23776786\">10 hours ago</a></span> <span id=\"unv_23776786\"></span> | <a href=\"hide?id=23776786&amp;goto=news\">hide</a> | <a href=\"item?id=23776786\">34&nbsp;comments</a>              </td></tr>\n",
      "      <tr class=\"spacer\" style=\"height:5px\"></tr>\n",
      "            <tr class=\"morespace\" style=\"height:10px\"></tr><tr><td colspan=\"2\"></td><td class=\"title\"><a href=\"news?p=2\" class=\"morelink\" rel=\"next\">More</a></td></tr>\n",
      "  </table>\n",
      "</td></tr>\n",
      "<tr><td><img src=\"s.gif\" height=\"10\" width=\"0\"><table width=\"100%\" cellspacing=\"0\" cellpadding=\"1\"><tr><td bgcolor=\"#ff6600\"></td></tr></table><br><center><span class=\"yclinks\"><a href=\"newsguidelines.html\">Guidelines</a>\n",
      "        | <a href=\"newsfaq.html\">FAQ</a>\n",
      "        | <a href=\"mailto:hn@ycombinator.com\">Support</a>\n",
      "        | <a href=\"https://github.com/HackerNews/API\">API</a>\n",
      "        | <a href=\"security.html\">Security</a>\n",
      "        | <a href=\"lists\">Lists</a>\n",
      "        | <a href=\"bookmarklet.html\" rel=\"nofollow\">Bookmarklet</a>\n",
      "        | <a href=\"http://www.ycombinator.com/legal/\">Legal</a>\n",
      "        | <a href=\"http://www.ycombinator.com/apply/\">Apply to YC</a>\n",
      "        | <a href=\"mailto:hn@ycombinator.com\">Contact</a></span><br><br><form method=\"get\" action=\"//hn.algolia.com/\">Search:\n",
      "          <input type=\"text\" name=\"q\" value=\"\" size=\"17\" autocorrect=\"off\" spellcheck=\"false\" autocapitalize=\"off\" autocomplete=\"false\"></form>\n",
      "            </center></td></tr>\n",
      "      </table></center></body><script type='text/javascript' src='hn.js?xxZKMVXn3yWHa2NZs4FV'></script></html>\n",
      "\n"
     ]
    }
   ],
   "source": [
    "import requests\n",
    "\n",
    "# Fetch a web page\n",
    "r = requests.get(\"https://news.ycombinator.com\")\n",
    "print(r.text)"
   ]
  },
  {
   "cell_type": "code",
   "execution_count": 5,
   "metadata": {},
   "outputs": [
    {
     "name": "stdout",
     "output_type": "stream",
     "text": [
      "\n",
      "        \n",
      "          \n",
      "        Hacker News\n",
      "        \n",
      "                  Hacker News\n",
      "              new | past | comments | ask | show | jobs | submit            \n",
      "                              login\n",
      "                          \n",
      "              \n",
      "\n",
      "              \n",
      "      1.      Decentraleyes – Local CDN Emulation (decentraleyes.org)\n",
      "        76 points by thunderbong 2 hours ago  | hide | 30&nbsp;comments              \n",
      "      \n",
      "                \n",
      "      2.      A Tour of Acme (2012) (swtch.com)\n",
      "        27 points by gklitt 1 hour ago  | hide | 3&nbsp;comments              \n",
      "      \n",
      "                \n",
      "      3.      Launch HN: Yotta Savings (YC S20) – Behavioral psychology to help people save\n",
      "        31 points by adammoelis 50 minutes ago  | hide | 17&nbsp;comments              \n",
      "      \n",
      "                \n",
      "      4.      We can't send email more than 500 miles (2002) (web.mit.edu)\n",
      "        811 points by alanpage 15 hours ago  | hide | 120&nbsp;comments              \n",
      "      \n",
      "                \n",
      "      5.      Moving from TypeScript to Rust / WebAssembly (nicolodavis.com)\n",
      "        402 points by nicolodavis 11 hours ago  | hide | 286&nbsp;comments              \n",
      "      \n",
      "                \n",
      "      6.      Giant clams manipulate light to assist their symbiotic partner (phys.org)\n",
      "        13 points by lelf 1 hour ago  | hide | 4&nbsp;comments              \n",
      "      \n",
      "                \n",
      "      7.      Portland approves 10% cap on fees that food delivery apps can charge restaurants (oregonlive.com)\n",
      "        140 points by Shivetya 2 hours ago  | hide | 150&nbsp;comments              \n",
      "      \n",
      "                \n",
      "      8.      A Woman Who Needed to Be Upside-Down (2012) (discovermagazine.com)\n",
      "        71 points by ColinWright 2 hours ago  | hide | 10&nbsp;comments              \n",
      "      \n",
      "                \n",
      "      9.      Bitmovin (YC S15) Hires Solutions Architects in Denver (bitmovin.com)\n",
      "        27 minutes ago | hide      \n",
      "      \n",
      "                \n",
      "      10.      New JavaScript code generator has landed in Idris 2 (github.com)\n",
      "        108 points by ska80 8 hours ago  | hide | 5&nbsp;comments              \n",
      "      \n",
      "                \n",
      "      11.      RediSearch – Redis Powered Search Engine (redislabs.com)\n",
      "        118 points by gilad 8 hours ago  | hide | 66&nbsp;comments              \n",
      "      \n",
      "                \n",
      "      12.      Hacker News RSS Feeds (edavis.github.io)\n",
      "        122 points by tejado 4 hours ago  | hide | 28&nbsp;comments              \n",
      "      \n",
      "                \n",
      "      13.      Why IBM Doesn’t Agree with Google’s Open Usage Commons for the Istio Project (ibm.com)\n",
      "        146 points by bharatsb 9 hours ago  | hide | 60&nbsp;comments              \n",
      "      \n",
      "                \n",
      "      14.      Animals Use Social Distancing to Avoid Disease (scientificamerican.com)\n",
      "        67 points by anthilemoon 3 hours ago  | hide | 55&nbsp;comments              \n",
      "      \n",
      "                \n",
      "      15.      How to launch when the app directory rejects you (directmemo.io)\n",
      "        35 points by jsmoov 1 hour ago  | hide | 22&nbsp;comments              \n",
      "      \n",
      "                \n",
      "      16.      Nvidia is now worth more than Intel (techspot.com)\n",
      "        101 points by neogodless 4 hours ago  | hide | 78&nbsp;comments              \n",
      "      \n",
      "                \n",
      "      17.      MoreOnionsPorfavor: Onionize your website and take back the internet (torproject.org)\n",
      "        214 points by worldofmatthew 14 hours ago  | hide | 125&nbsp;comments              \n",
      "      \n",
      "                \n",
      "      18.      Developing Computer Self-Reliance (cheapskatesguide.org)\n",
      "        37 points by sT370ma2 4 hours ago  | hide | 12&nbsp;comments              \n",
      "      \n",
      "                \n",
      "      19.      Reddit's website uses DRM for fingerprinting (smitop.com)\n",
      "        882 points by smitop 17 hours ago  | hide | 462&nbsp;comments              \n",
      "      \n",
      "                \n",
      "      20.      The Rise of the Solo Capitalists (nbt.substack.com)\n",
      "        30 points by yarapavan 2 hours ago  | hide | 6&nbsp;comments              \n",
      "      \n",
      "                \n",
      "      21.      Native American gene flow into Polynesia predating Easter Island settlement (nature.com)\n",
      "        46 points by Thevet 9 hours ago  | hide | 14&nbsp;comments              \n",
      "      \n",
      "                \n",
      "      22.      Between Workaholism and Procrastination (2015) (jamalx31.com)\n",
      "        39 points by jamalx31 5 hours ago  | hide | 24&nbsp;comments              \n",
      "      \n",
      "                \n",
      "      23.      Linux Mint drops Ubuntu Snap packages (lwn.net)\n",
      "        1009 points by jonquark 21 hours ago  | hide | 444&nbsp;comments              \n",
      "      \n",
      "                \n",
      "      24.      CERN-Particle made of 4 charm quarks could be the first compact tetraquark found (theconversation.com)\n",
      "        10 points by simplertms 39 minutes ago  | hide | discuss              \n",
      "      \n",
      "                \n",
      "      25.      Full Employment (locusmag.com)\n",
      "        116 points by anigbrowl 9 hours ago  | hide | 123&nbsp;comments              \n",
      "      \n",
      "                \n",
      "      26.      Rust Playground (rust-lang.org)\n",
      "        64 points by tosh 1 hour ago  | hide | 16&nbsp;comments              \n",
      "      \n",
      "                \n",
      "      27.      Markdig and Error-Free Programming in F# (locals.com)\n",
      "        27 points by todsacerdoti 4 hours ago  | hide | 2&nbsp;comments              \n",
      "      \n",
      "                \n",
      "      28.      Police Are Buying Access to Hacked Website Data (vice.com)\n",
      "        7 points by LinuxBender 45 minutes ago  | hide | discuss              \n",
      "      \n",
      "                \n",
      "      29.      Java Optimized Processor (2005) (jopdesign.com)\n",
      "        58 points by Koshkin 12 hours ago  | hide | 44&nbsp;comments              \n",
      "      \n",
      "                \n",
      "      30.      Wikimedia FontCDN – an anonymizing, privacy-first reverse proxy to Google Fonts (toolforge.org)\n",
      "        64 points by supercucumber 10 hours ago  | hide | 34&nbsp;comments              \n",
      "      \n",
      "            More\n",
      "  \n",
      "\n",
      "Guidelines\n",
      "        | FAQ\n",
      "        | Support\n",
      "        | API\n",
      "        | Security\n",
      "        | Lists\n",
      "        | Bookmarklet\n",
      "        | Legal\n",
      "        | Apply to YC\n",
      "        | ContactSearch:\n",
      "          \n",
      "            \n",
      "      \n",
      "\n"
     ]
    }
   ],
   "source": [
    "import re\n",
    "\n",
    "# Remove HTML tags using RegEx\n",
    "pattern = re.compile(r'<.*?>')  # tags look like <...>\n",
    "print(pattern.sub('', r.text))  # replace them with blank"
   ]
  },
  {
   "cell_type": "code",
   "execution_count": 6,
   "metadata": {},
   "outputs": [
    {
     "name": "stdout",
     "output_type": "stream",
     "text": [
      "\n",
      "        \n",
      "          \n",
      "        Hacker News\n",
      "        \n",
      "                  Hacker News\n",
      "              new | past | comments | ask | show | jobs | submit            \n",
      "                              login\n",
      "                          \n",
      "              \n",
      "\n",
      "              \n",
      "      1.      Decentraleyes – Local CDN Emulation (decentraleyes.org)\n",
      "        76 points by thunderbong 2 hours ago  | hide | 30 comments              \n",
      "      \n",
      "                \n",
      "      2.      A Tour of Acme (2012) (swtch.com)\n",
      "        27 points by gklitt 1 hour ago  | hide | 3 comments              \n",
      "      \n",
      "                \n",
      "      3.      Launch HN: Yotta Savings (YC S20) – Behavioral psychology to help people save\n",
      "        31 points by adammoelis 50 minutes ago  | hide | 17 comments              \n",
      "      \n",
      "                \n",
      "      4.      We can't send email more than 500 miles (2002) (web.mit.edu)\n",
      "        811 points by alanpage 15 hours ago  | hide | 120 comments              \n",
      "      \n",
      "                \n",
      "      5.      Moving from TypeScript to Rust / WebAssembly (nicolodavis.com)\n",
      "        402 points by nicolodavis 11 hours ago  | hide | 286 comments              \n",
      "      \n",
      "                \n",
      "      6.      Giant clams manipulate light to assist their symbiotic partner (phys.org)\n",
      "        13 points by lelf 1 hour ago  | hide | 4 comments              \n",
      "      \n",
      "                \n",
      "      7.      Portland approves 10% cap on fees that food delivery apps can charge restaurants (oregonlive.com)\n",
      "        140 points by Shivetya 2 hours ago  | hide | 150 comments              \n",
      "      \n",
      "                \n",
      "      8.      A Woman Who Needed to Be Upside-Down (2012) (discovermagazine.com)\n",
      "        71 points by ColinWright 2 hours ago  | hide | 10 comments              \n",
      "      \n",
      "                \n",
      "      9.      Bitmovin (YC S15) Hires Solutions Architects in Denver (bitmovin.com)\n",
      "        27 minutes ago | hide      \n",
      "      \n",
      "                \n",
      "      10.      New JavaScript code generator has landed in Idris 2 (github.com)\n",
      "        108 points by ska80 8 hours ago  | hide | 5 comments              \n",
      "      \n",
      "                \n",
      "      11.      RediSearch – Redis Powered Search Engine (redislabs.com)\n",
      "        118 points by gilad 8 hours ago  | hide | 66 comments              \n",
      "      \n",
      "                \n",
      "      12.      Hacker News RSS Feeds (edavis.github.io)\n",
      "        122 points by tejado 4 hours ago  | hide | 28 comments              \n",
      "      \n",
      "                \n",
      "      13.      Why IBM Doesn’t Agree with Google’s Open Usage Commons for the Istio Project (ibm.com)\n",
      "        146 points by bharatsb 9 hours ago  | hide | 60 comments              \n",
      "      \n",
      "                \n",
      "      14.      Animals Use Social Distancing to Avoid Disease (scientificamerican.com)\n",
      "        67 points by anthilemoon 3 hours ago  | hide | 55 comments              \n",
      "      \n",
      "                \n",
      "      15.      How to launch when the app directory rejects you (directmemo.io)\n",
      "        35 points by jsmoov 1 hour ago  | hide | 22 comments              \n",
      "      \n",
      "                \n",
      "      16.      Nvidia is now worth more than Intel (techspot.com)\n",
      "        101 points by neogodless 4 hours ago  | hide | 78 comments              \n",
      "      \n",
      "                \n",
      "      17.      MoreOnionsPorfavor: Onionize your website and take back the internet (torproject.org)\n",
      "        214 points by worldofmatthew 14 hours ago  | hide | 125 comments              \n",
      "      \n",
      "                \n",
      "      18.      Developing Computer Self-Reliance (cheapskatesguide.org)\n",
      "        37 points by sT370ma2 4 hours ago  | hide | 12 comments              \n",
      "      \n",
      "                \n",
      "      19.      Reddit's website uses DRM for fingerprinting (smitop.com)\n",
      "        882 points by smitop 17 hours ago  | hide | 462 comments              \n",
      "      \n",
      "                \n",
      "      20.      The Rise of the Solo Capitalists (nbt.substack.com)\n",
      "        30 points by yarapavan 2 hours ago  | hide | 6 comments              \n",
      "      \n",
      "                \n",
      "      21.      Native American gene flow into Polynesia predating Easter Island settlement (nature.com)\n",
      "        46 points by Thevet 9 hours ago  | hide | 14 comments              \n",
      "      \n",
      "                \n",
      "      22.      Between Workaholism and Procrastination (2015) (jamalx31.com)\n",
      "        39 points by jamalx31 5 hours ago  | hide | 24 comments              \n",
      "      \n",
      "                \n",
      "      23.      Linux Mint drops Ubuntu Snap packages (lwn.net)\n",
      "        1009 points by jonquark 21 hours ago  | hide | 444 comments              \n",
      "      \n",
      "                \n",
      "      24.      CERN-Particle made of 4 charm quarks could be the first compact tetraquark found (theconversation.com)\n",
      "        10 points by simplertms 39 minutes ago  | hide | discuss              \n",
      "      \n",
      "                \n",
      "      25.      Full Employment (locusmag.com)\n",
      "        116 points by anigbrowl 9 hours ago  | hide | 123 comments              \n",
      "      \n",
      "                \n",
      "      26.      Rust Playground (rust-lang.org)\n",
      "        64 points by tosh 1 hour ago  | hide | 16 comments              \n",
      "      \n",
      "                \n",
      "      27.      Markdig and Error-Free Programming in F# (locals.com)\n",
      "        27 points by todsacerdoti 4 hours ago  | hide | 2 comments              \n",
      "      \n",
      "                \n",
      "      28.      Police Are Buying Access to Hacked Website Data (vice.com)\n",
      "        7 points by LinuxBender 45 minutes ago  | hide | discuss              \n",
      "      \n",
      "                \n",
      "      29.      Java Optimized Processor (2005) (jopdesign.com)\n",
      "        58 points by Koshkin 12 hours ago  | hide | 44 comments              \n",
      "      \n",
      "                \n",
      "      30.      Wikimedia FontCDN – an anonymizing, privacy-first reverse proxy to Google Fonts (toolforge.org)\n",
      "        64 points by supercucumber 10 hours ago  | hide | 34 comments              \n",
      "      \n",
      "            More\n",
      "  \n",
      "\n",
      "Guidelines\n",
      "        | FAQ\n",
      "        | Support\n",
      "        | API\n",
      "        | Security\n",
      "        | Lists\n",
      "        | Bookmarklet\n",
      "        | Legal\n",
      "        | Apply to YC\n",
      "        | ContactSearch:\n",
      "          \n",
      "            \n",
      "      \n",
      "\n"
     ]
    }
   ],
   "source": [
    "from bs4 import BeautifulSoup\n",
    "\n",
    "# Remove HTML tags using Beautiful Soup library\n",
    "soup = BeautifulSoup(r.text, \"html5lib\")\n",
    "print(soup.get_text())"
   ]
  },
  {
   "cell_type": "code",
   "execution_count": 7,
   "metadata": {
    "scrolled": true
   },
   "outputs": [
    {
     "data": {
      "text/plain": [
       "<tr class=\"athing\" id=\"23779222\">\n",
       "      <td align=\"right\" class=\"title\" valign=\"top\"><span class=\"rank\">1.</span></td>      <td class=\"votelinks\" valign=\"top\"><center><a href=\"vote?id=23779222&amp;how=up&amp;goto=news\" id=\"up_23779222\"><div class=\"votearrow\" title=\"upvote\"></div></a></center></td><td class=\"title\"><a class=\"storylink\" href=\"https://decentraleyes.org\">Decentraleyes – Local CDN Emulation</a><span class=\"sitebit comhead\"> (<a href=\"from?site=decentraleyes.org\"><span class=\"sitestr\">decentraleyes.org</span></a>)</span></td></tr>"
      ]
     },
     "execution_count": 7,
     "metadata": {},
     "output_type": "execute_result"
    }
   ],
   "source": [
    "# Find all articles\n",
    "summaries = soup.find_all(\"tr\", class_=\"athing\")\n",
    "summaries[0]"
   ]
  },
  {
   "cell_type": "code",
   "execution_count": 8,
   "metadata": {},
   "outputs": [
    {
     "data": {
      "text/plain": [
       "'Decentraleyes – Local CDN Emulation'"
      ]
     },
     "execution_count": 8,
     "metadata": {},
     "output_type": "execute_result"
    }
   ],
   "source": [
    "# Extract title\n",
    "summaries[0].find(\"a\", class_=\"storylink\").get_text().strip()"
   ]
  },
  {
   "cell_type": "code",
   "execution_count": 9,
   "metadata": {},
   "outputs": [
    {
     "name": "stdout",
     "output_type": "stream",
     "text": [
      "30 Article summaries found. Sample:\n",
      "Decentraleyes – Local CDN Emulation\n"
     ]
    }
   ],
   "source": [
    "# Find all articles, extract titles\n",
    "articles = []\n",
    "summaries = soup.find_all(\"tr\", class_=\"athing\")\n",
    "for summary in summaries:\n",
    "    title = summary.find(\"a\", class_=\"storylink\").get_text().strip()\n",
    "    articles.append((title))\n",
    "\n",
    "print(len(articles), \"Article summaries found. Sample:\")\n",
    "print(articles[0])"
   ]
  },
  {
   "cell_type": "markdown",
   "metadata": {
    "collapsed": true
   },
   "source": [
    "## Normalization"
   ]
  },
  {
   "cell_type": "markdown",
   "metadata": {},
   "source": [
    "### Case Normalization"
   ]
  },
  {
   "cell_type": "code",
   "execution_count": 10,
   "metadata": {},
   "outputs": [
    {
     "name": "stdout",
     "output_type": "stream",
     "text": [
      "The first time you see The Second Renaissance it may look boring. Look at it at least twice and definitely watch part 2. It will change your view of the matrix. Are the human people the ones who started the war ? Is AI a bad thing ?\n"
     ]
    }
   ],
   "source": [
    "# Sample text\n",
    "text = \"The first time you see The Second Renaissance it may look boring. Look at it at least twice and definitely watch part 2. It will change your view of the matrix. Are the human people the ones who started the war ? Is AI a bad thing ?\"\n",
    "print(text)"
   ]
  },
  {
   "cell_type": "code",
   "execution_count": 11,
   "metadata": {},
   "outputs": [
    {
     "name": "stdout",
     "output_type": "stream",
     "text": [
      "the first time you see the second renaissance it may look boring. look at it at least twice and definitely watch part 2. it will change your view of the matrix. are the human people the ones who started the war ? is ai a bad thing ?\n"
     ]
    }
   ],
   "source": [
    "# Convert to lowercase\n",
    "text = text.lower() \n",
    "print(text)"
   ]
  },
  {
   "cell_type": "markdown",
   "metadata": {},
   "source": [
    "### Punctuation Removal"
   ]
  },
  {
   "cell_type": "code",
   "execution_count": 12,
   "metadata": {},
   "outputs": [
    {
     "name": "stdout",
     "output_type": "stream",
     "text": [
      "the first time you see the second renaissance it may look boring  look at it at least twice and definitely watch part 2  it will change your view of the matrix  are the human people the ones who started the war   is ai a bad thing  \n"
     ]
    }
   ],
   "source": [
    "import re\n",
    "\n",
    "# Remove punctuation characters\n",
    "text = re.sub(r\"[^a-zA-Z0-9]\", \" \", text) \n",
    "print(text)"
   ]
  },
  {
   "cell_type": "markdown",
   "metadata": {},
   "source": [
    "## Tokenization"
   ]
  },
  {
   "cell_type": "code",
   "execution_count": 13,
   "metadata": {},
   "outputs": [
    {
     "name": "stdout",
     "output_type": "stream",
     "text": [
      "['the', 'first', 'time', 'you', 'see', 'the', 'second', 'renaissance', 'it', 'may', 'look', 'boring', 'look', 'at', 'it', 'at', 'least', 'twice', 'and', 'definitely', 'watch', 'part', '2', 'it', 'will', 'change', 'your', 'view', 'of', 'the', 'matrix', 'are', 'the', 'human', 'people', 'the', 'ones', 'who', 'started', 'the', 'war', 'is', 'ai', 'a', 'bad', 'thing']\n"
     ]
    }
   ],
   "source": [
    "# Split text into tokens (words)\n",
    "words = text.split()\n",
    "print(words)"
   ]
  },
  {
   "cell_type": "markdown",
   "metadata": {},
   "source": [
    "### NLTK: Natural Language ToolKit"
   ]
  },
  {
   "cell_type": "code",
   "execution_count": 14,
   "metadata": {},
   "outputs": [],
   "source": [
    "import os\n",
    "import nltk\n",
    "nltk.data.path.append(os.path.join(os.getcwd(), \"nltk_data\"))"
   ]
  },
  {
   "cell_type": "code",
   "execution_count": 15,
   "metadata": {},
   "outputs": [
    {
     "name": "stdout",
     "output_type": "stream",
     "text": [
      "Dr. Smith graduated from the University of Washington. He later started an analytics firm called Lux, which catered to enterprise customers.\n"
     ]
    }
   ],
   "source": [
    "# Another sample text\n",
    "text = \"Dr. Smith graduated from the University of Washington. He later started an analytics firm called Lux, which catered to enterprise customers.\"\n",
    "print(text)"
   ]
  },
  {
   "cell_type": "code",
   "execution_count": 16,
   "metadata": {},
   "outputs": [
    {
     "name": "stdout",
     "output_type": "stream",
     "text": [
      "['Dr.', 'Smith', 'graduated', 'from', 'the', 'University', 'of', 'Washington', '.', 'He', 'later', 'started', 'an', 'analytics', 'firm', 'called', 'Lux', ',', 'which', 'catered', 'to', 'enterprise', 'customers', '.']\n"
     ]
    }
   ],
   "source": [
    "from nltk.tokenize import word_tokenize\n",
    "\n",
    "# Split text into words using NLTK\n",
    "words = word_tokenize(text)\n",
    "print(words)"
   ]
  },
  {
   "cell_type": "code",
   "execution_count": 17,
   "metadata": {},
   "outputs": [
    {
     "name": "stdout",
     "output_type": "stream",
     "text": [
      "['Dr. Smith graduated from the University of Washington.', 'He later started an analytics firm called Lux, which catered to enterprise customers.']\n"
     ]
    }
   ],
   "source": [
    "from nltk.tokenize import sent_tokenize\n",
    "\n",
    "# Split text into sentences\n",
    "sentences = sent_tokenize(text)\n",
    "print(sentences)"
   ]
  },
  {
   "cell_type": "code",
   "execution_count": 18,
   "metadata": {},
   "outputs": [
    {
     "name": "stdout",
     "output_type": "stream",
     "text": [
      "['i', 'me', 'my', 'myself', 'we', 'our', 'ours', 'ourselves', 'you', \"you're\", \"you've\", \"you'll\", \"you'd\", 'your', 'yours', 'yourself', 'yourselves', 'he', 'him', 'his', 'himself', 'she', \"she's\", 'her', 'hers', 'herself', 'it', \"it's\", 'its', 'itself', 'they', 'them', 'their', 'theirs', 'themselves', 'what', 'which', 'who', 'whom', 'this', 'that', \"that'll\", 'these', 'those', 'am', 'is', 'are', 'was', 'were', 'be', 'been', 'being', 'have', 'has', 'had', 'having', 'do', 'does', 'did', 'doing', 'a', 'an', 'the', 'and', 'but', 'if', 'or', 'because', 'as', 'until', 'while', 'of', 'at', 'by', 'for', 'with', 'about', 'against', 'between', 'into', 'through', 'during', 'before', 'after', 'above', 'below', 'to', 'from', 'up', 'down', 'in', 'out', 'on', 'off', 'over', 'under', 'again', 'further', 'then', 'once', 'here', 'there', 'when', 'where', 'why', 'how', 'all', 'any', 'both', 'each', 'few', 'more', 'most', 'other', 'some', 'such', 'no', 'nor', 'not', 'only', 'own', 'same', 'so', 'than', 'too', 'very', 's', 't', 'can', 'will', 'just', 'don', \"don't\", 'should', \"should've\", 'now', 'd', 'll', 'm', 'o', 're', 've', 'y', 'ain', 'aren', \"aren't\", 'couldn', \"couldn't\", 'didn', \"didn't\", 'doesn', \"doesn't\", 'hadn', \"hadn't\", 'hasn', \"hasn't\", 'haven', \"haven't\", 'isn', \"isn't\", 'ma', 'mightn', \"mightn't\", 'mustn', \"mustn't\", 'needn', \"needn't\", 'shan', \"shan't\", 'shouldn', \"shouldn't\", 'wasn', \"wasn't\", 'weren', \"weren't\", 'won', \"won't\", 'wouldn', \"wouldn't\"]\n"
     ]
    }
   ],
   "source": [
    "# List stop words\n",
    "from nltk.corpus import stopwords\n",
    "print(stopwords.words(\"english\"))"
   ]
  },
  {
   "cell_type": "code",
   "execution_count": 19,
   "metadata": {},
   "outputs": [
    {
     "name": "stdout",
     "output_type": "stream",
     "text": [
      "['the', 'first', 'time', 'you', 'see', 'the', 'second', 'renaissance', 'it', 'may', 'look', 'boring', 'look', 'at', 'it', 'at', 'least', 'twice', 'and', 'definitely', 'watch', 'part', '2', 'it', 'will', 'change', 'your', 'view', 'of', 'the', 'matrix', 'are', 'the', 'human', 'people', 'the', 'ones', 'who', 'started', 'the', 'war', 'is', 'ai', 'a', 'bad', 'thing']\n"
     ]
    }
   ],
   "source": [
    "# Reset text\n",
    "text = \"The first time you see The Second Renaissance it may look boring. Look at it at least twice and definitely watch part 2. It will change your view of the matrix. Are the human people the ones who started the war ? Is AI a bad thing ?\"\n",
    "\n",
    "# Normalize it\n",
    "text = re.sub(r\"[^a-zA-Z0-9]\", \" \", text.lower())\n",
    "\n",
    "# Tokenize it\n",
    "words = text.split()\n",
    "print(words)"
   ]
  },
  {
   "cell_type": "code",
   "execution_count": 20,
   "metadata": {},
   "outputs": [
    {
     "name": "stdout",
     "output_type": "stream",
     "text": [
      "['first', 'time', 'see', 'second', 'renaissance', 'may', 'look', 'boring', 'look', 'least', 'twice', 'definitely', 'watch', 'part', '2', 'change', 'view', 'matrix', 'human', 'people', 'ones', 'started', 'war', 'ai', 'bad', 'thing']\n"
     ]
    }
   ],
   "source": [
    "# Remove stop words\n",
    "words = [w for w in words if w not in stopwords.words(\"english\")]\n",
    "print(words)"
   ]
  },
  {
   "cell_type": "markdown",
   "metadata": {},
   "source": [
    "### Sentence Parsing"
   ]
  },
  {
   "cell_type": "code",
   "execution_count": 21,
   "metadata": {},
   "outputs": [
    {
     "name": "stdout",
     "output_type": "stream",
     "text": [
      "(S\n",
      "  (NP I)\n",
      "  (VP\n",
      "    (VP (V shot) (NP (Det an) (N elephant)))\n",
      "    (PP (P in) (NP (Det my) (N pajamas)))))\n",
      "(S\n",
      "  (NP I)\n",
      "  (VP\n",
      "    (V shot)\n",
      "    (NP (Det an) (N elephant) (PP (P in) (NP (Det my) (N pajamas))))))\n"
     ]
    }
   ],
   "source": [
    "import nltk\n",
    "\n",
    "# Define a custom grammar\n",
    "my_grammar = nltk.CFG.fromstring(\"\"\"\n",
    "S -> NP VP\n",
    "PP -> P NP\n",
    "NP -> Det N | Det N PP | 'I'\n",
    "VP -> V NP | VP PP\n",
    "Det -> 'an' | 'my'\n",
    "N -> 'elephant' | 'pajamas'\n",
    "V -> 'shot'\n",
    "P -> 'in'\n",
    "\"\"\")\n",
    "parser = nltk.ChartParser(my_grammar)\n",
    "\n",
    "# Parse a sentence\n",
    "sentence = word_tokenize(\"I shot an elephant in my pajamas\")\n",
    "for tree in parser.parse(sentence):\n",
    "    print(tree)"
   ]
  },
  {
   "cell_type": "markdown",
   "metadata": {},
   "source": [
    "## Stemming & Lemmatization\n",
    "\n",
    "### Stemming"
   ]
  },
  {
   "cell_type": "code",
   "execution_count": 22,
   "metadata": {},
   "outputs": [
    {
     "name": "stdout",
     "output_type": "stream",
     "text": [
      "['first', 'time', 'see', 'second', 'renaiss', 'may', 'look', 'bore', 'look', 'least', 'twice', 'definit', 'watch', 'part', '2', 'chang', 'view', 'matrix', 'human', 'peopl', 'one', 'start', 'war', 'ai', 'bad', 'thing']\n"
     ]
    }
   ],
   "source": [
    "from nltk.stem.porter import PorterStemmer\n",
    "\n",
    "# Reduce words to their stems\n",
    "stemmed = [PorterStemmer().stem(w) for w in words]\n",
    "print(stemmed)"
   ]
  },
  {
   "cell_type": "markdown",
   "metadata": {},
   "source": [
    "### Lemmatization"
   ]
  },
  {
   "cell_type": "code",
   "execution_count": 23,
   "metadata": {},
   "outputs": [
    {
     "name": "stdout",
     "output_type": "stream",
     "text": [
      "['first', 'time', 'see', 'second', 'renaissance', 'may', 'look', 'boring', 'look', 'least', 'twice', 'definitely', 'watch', 'part', '2', 'change', 'view', 'matrix', 'human', 'people', 'one', 'started', 'war', 'ai', 'bad', 'thing']\n"
     ]
    }
   ],
   "source": [
    "from nltk.stem.wordnet import WordNetLemmatizer\n",
    "\n",
    "# Reduce words to their root form\n",
    "lemmed = [WordNetLemmatizer().lemmatize(w) for w in words]\n",
    "print(lemmed)"
   ]
  },
  {
   "cell_type": "code",
   "execution_count": 24,
   "metadata": {},
   "outputs": [
    {
     "name": "stdout",
     "output_type": "stream",
     "text": [
      "['first', 'time', 'see', 'second', 'renaissance', 'may', 'look', 'bore', 'look', 'least', 'twice', 'definitely', 'watch', 'part', '2', 'change', 'view', 'matrix', 'human', 'people', 'one', 'start', 'war', 'ai', 'bad', 'thing']\n"
     ]
    }
   ],
   "source": [
    "# Lemmatize verbs by specifying pos\n",
    "lemmed = [WordNetLemmatizer().lemmatize(w, pos='v') for w in lemmed]\n",
    "print(lemmed)"
   ]
  },
  {
   "cell_type": "code",
   "execution_count": null,
   "metadata": {},
   "outputs": [],
   "source": []
  }
 ],
 "metadata": {
  "kernelspec": {
   "display_name": "Python 3",
   "language": "python",
   "name": "python3"
  },
  "language_info": {
   "codemirror_mode": {
    "name": "ipython",
    "version": 3
   },
   "file_extension": ".py",
   "mimetype": "text/x-python",
   "name": "python",
   "nbconvert_exporter": "python",
   "pygments_lexer": "ipython3",
   "version": "3.6.3"
  }
 },
 "nbformat": 4,
 "nbformat_minor": 2
}
